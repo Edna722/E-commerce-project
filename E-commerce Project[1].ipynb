{
 "cells": [
  {
   "cell_type": "code",
   "execution_count": 1,
   "metadata": {},
   "outputs": [],
   "source": [
    "import pandas as pd\n",
    "import numpy as np\n",
    "import matplotlib.pyplot as plt\n",
    "import seaborn as sns"
   ]
  },
  {
   "cell_type": "code",
   "execution_count": 3,
   "metadata": {},
   "outputs": [
    {
     "data": {
      "text/html": [
       "<div>\n",
       "<style scoped>\n",
       "    .dataframe tbody tr th:only-of-type {\n",
       "        vertical-align: middle;\n",
       "    }\n",
       "\n",
       "    .dataframe tbody tr th {\n",
       "        vertical-align: top;\n",
       "    }\n",
       "\n",
       "    .dataframe thead th {\n",
       "        text-align: right;\n",
       "    }\n",
       "</style>\n",
       "<table border=\"1\" class=\"dataframe\">\n",
       "  <thead>\n",
       "    <tr style=\"text-align: right;\">\n",
       "      <th></th>\n",
       "      <th>Order_Date</th>\n",
       "      <th>Time</th>\n",
       "      <th>Aging</th>\n",
       "      <th>Customer_Id</th>\n",
       "      <th>Gender</th>\n",
       "      <th>Device_Type</th>\n",
       "      <th>Customer_Login_type</th>\n",
       "      <th>Product_Category</th>\n",
       "      <th>Product</th>\n",
       "      <th>Sales</th>\n",
       "      <th>Quantity</th>\n",
       "      <th>Discount</th>\n",
       "      <th>Profit</th>\n",
       "      <th>Shipping_Cost</th>\n",
       "      <th>Order_Priority</th>\n",
       "      <th>Payment_method</th>\n",
       "    </tr>\n",
       "  </thead>\n",
       "  <tbody>\n",
       "    <tr>\n",
       "      <th>0</th>\n",
       "      <td>2018-01-02</td>\n",
       "      <td>10:56:33</td>\n",
       "      <td>8.0</td>\n",
       "      <td>37077</td>\n",
       "      <td>Female</td>\n",
       "      <td>Web</td>\n",
       "      <td>Member</td>\n",
       "      <td>Auto &amp; Accessories</td>\n",
       "      <td>Car Media Players</td>\n",
       "      <td>140.0</td>\n",
       "      <td>1.0</td>\n",
       "      <td>0.3</td>\n",
       "      <td>46.0</td>\n",
       "      <td>4.6</td>\n",
       "      <td>Medium</td>\n",
       "      <td>credit_card</td>\n",
       "    </tr>\n",
       "    <tr>\n",
       "      <th>1</th>\n",
       "      <td>2018-07-24</td>\n",
       "      <td>20:41:37</td>\n",
       "      <td>2.0</td>\n",
       "      <td>59173</td>\n",
       "      <td>Female</td>\n",
       "      <td>Web</td>\n",
       "      <td>Member</td>\n",
       "      <td>Auto &amp; Accessories</td>\n",
       "      <td>Car Speakers</td>\n",
       "      <td>211.0</td>\n",
       "      <td>1.0</td>\n",
       "      <td>0.3</td>\n",
       "      <td>112.0</td>\n",
       "      <td>11.2</td>\n",
       "      <td>Medium</td>\n",
       "      <td>credit_card</td>\n",
       "    </tr>\n",
       "    <tr>\n",
       "      <th>2</th>\n",
       "      <td>2018-11-08</td>\n",
       "      <td>08:38:49</td>\n",
       "      <td>8.0</td>\n",
       "      <td>41066</td>\n",
       "      <td>Female</td>\n",
       "      <td>Web</td>\n",
       "      <td>Member</td>\n",
       "      <td>Auto &amp; Accessories</td>\n",
       "      <td>Car Body Covers</td>\n",
       "      <td>117.0</td>\n",
       "      <td>5.0</td>\n",
       "      <td>0.1</td>\n",
       "      <td>31.2</td>\n",
       "      <td>3.1</td>\n",
       "      <td>Critical</td>\n",
       "      <td>credit_card</td>\n",
       "    </tr>\n",
       "    <tr>\n",
       "      <th>3</th>\n",
       "      <td>2018-04-18</td>\n",
       "      <td>19:28:06</td>\n",
       "      <td>7.0</td>\n",
       "      <td>50741</td>\n",
       "      <td>Female</td>\n",
       "      <td>Web</td>\n",
       "      <td>Member</td>\n",
       "      <td>Auto &amp; Accessories</td>\n",
       "      <td>Car &amp; Bike Care</td>\n",
       "      <td>118.0</td>\n",
       "      <td>1.0</td>\n",
       "      <td>0.3</td>\n",
       "      <td>26.2</td>\n",
       "      <td>2.6</td>\n",
       "      <td>High</td>\n",
       "      <td>credit_card</td>\n",
       "    </tr>\n",
       "    <tr>\n",
       "      <th>4</th>\n",
       "      <td>2018-08-13</td>\n",
       "      <td>21:18:39</td>\n",
       "      <td>9.0</td>\n",
       "      <td>53639</td>\n",
       "      <td>Female</td>\n",
       "      <td>Web</td>\n",
       "      <td>Member</td>\n",
       "      <td>Auto &amp; Accessories</td>\n",
       "      <td>Tyre</td>\n",
       "      <td>250.0</td>\n",
       "      <td>1.0</td>\n",
       "      <td>0.3</td>\n",
       "      <td>160.0</td>\n",
       "      <td>16.0</td>\n",
       "      <td>Critical</td>\n",
       "      <td>credit_card</td>\n",
       "    </tr>\n",
       "    <tr>\n",
       "      <th>...</th>\n",
       "      <td>...</td>\n",
       "      <td>...</td>\n",
       "      <td>...</td>\n",
       "      <td>...</td>\n",
       "      <td>...</td>\n",
       "      <td>...</td>\n",
       "      <td>...</td>\n",
       "      <td>...</td>\n",
       "      <td>...</td>\n",
       "      <td>...</td>\n",
       "      <td>...</td>\n",
       "      <td>...</td>\n",
       "      <td>...</td>\n",
       "      <td>...</td>\n",
       "      <td>...</td>\n",
       "      <td>...</td>\n",
       "    </tr>\n",
       "    <tr>\n",
       "      <th>51285</th>\n",
       "      <td>2018-02-28</td>\n",
       "      <td>22:59:50</td>\n",
       "      <td>6.0</td>\n",
       "      <td>78489</td>\n",
       "      <td>Female</td>\n",
       "      <td>Mobile</td>\n",
       "      <td>Member</td>\n",
       "      <td>Home &amp; Furniture</td>\n",
       "      <td>Shoe Rack</td>\n",
       "      <td>124.0</td>\n",
       "      <td>4.0</td>\n",
       "      <td>0.3</td>\n",
       "      <td>19.2</td>\n",
       "      <td>1.9</td>\n",
       "      <td>Medium</td>\n",
       "      <td>money_order</td>\n",
       "    </tr>\n",
       "    <tr>\n",
       "      <th>51286</th>\n",
       "      <td>2018-02-28</td>\n",
       "      <td>13:19:25</td>\n",
       "      <td>2.0</td>\n",
       "      <td>91941</td>\n",
       "      <td>Female</td>\n",
       "      <td>Mobile</td>\n",
       "      <td>Member</td>\n",
       "      <td>Home &amp; Furniture</td>\n",
       "      <td>Umbrellas</td>\n",
       "      <td>70.0</td>\n",
       "      <td>5.0</td>\n",
       "      <td>0.2</td>\n",
       "      <td>14.0</td>\n",
       "      <td>1.4</td>\n",
       "      <td>Medium</td>\n",
       "      <td>credit_card</td>\n",
       "    </tr>\n",
       "    <tr>\n",
       "      <th>51287</th>\n",
       "      <td>2018-02-28</td>\n",
       "      <td>10:25:07</td>\n",
       "      <td>6.0</td>\n",
       "      <td>63313</td>\n",
       "      <td>Male</td>\n",
       "      <td>Web</td>\n",
       "      <td>Member</td>\n",
       "      <td>Home &amp; Furniture</td>\n",
       "      <td>Dinner Crockery</td>\n",
       "      <td>133.0</td>\n",
       "      <td>1.0</td>\n",
       "      <td>0.3</td>\n",
       "      <td>39.7</td>\n",
       "      <td>4.0</td>\n",
       "      <td>Medium</td>\n",
       "      <td>credit_card</td>\n",
       "    </tr>\n",
       "    <tr>\n",
       "      <th>51288</th>\n",
       "      <td>2018-02-28</td>\n",
       "      <td>10:50:08</td>\n",
       "      <td>7.0</td>\n",
       "      <td>86485</td>\n",
       "      <td>Male</td>\n",
       "      <td>Web</td>\n",
       "      <td>Member</td>\n",
       "      <td>Home &amp; Furniture</td>\n",
       "      <td>Sofa Covers</td>\n",
       "      <td>216.0</td>\n",
       "      <td>1.0</td>\n",
       "      <td>0.2</td>\n",
       "      <td>131.7</td>\n",
       "      <td>13.2</td>\n",
       "      <td>Medium</td>\n",
       "      <td>credit_card</td>\n",
       "    </tr>\n",
       "    <tr>\n",
       "      <th>51289</th>\n",
       "      <td>2018-02-28</td>\n",
       "      <td>11:09:40</td>\n",
       "      <td>5.0</td>\n",
       "      <td>81129</td>\n",
       "      <td>Male</td>\n",
       "      <td>Web</td>\n",
       "      <td>Member</td>\n",
       "      <td>Home &amp; Furniture</td>\n",
       "      <td>Bed Sheets</td>\n",
       "      <td>211.0</td>\n",
       "      <td>5.0</td>\n",
       "      <td>0.3</td>\n",
       "      <td>99.4</td>\n",
       "      <td>9.9</td>\n",
       "      <td>Medium</td>\n",
       "      <td>credit_card</td>\n",
       "    </tr>\n",
       "  </tbody>\n",
       "</table>\n",
       "<p>51290 rows × 16 columns</p>\n",
       "</div>"
      ],
      "text/plain": [
       "       Order_Date      Time  Aging  Customer_Id  Gender Device_Type  \\\n",
       "0      2018-01-02  10:56:33    8.0        37077  Female         Web   \n",
       "1      2018-07-24  20:41:37    2.0        59173  Female         Web   \n",
       "2      2018-11-08  08:38:49    8.0        41066  Female         Web   \n",
       "3      2018-04-18  19:28:06    7.0        50741  Female         Web   \n",
       "4      2018-08-13  21:18:39    9.0        53639  Female         Web   \n",
       "...           ...       ...    ...          ...     ...         ...   \n",
       "51285  2018-02-28  22:59:50    6.0        78489  Female      Mobile   \n",
       "51286  2018-02-28  13:19:25    2.0        91941  Female      Mobile   \n",
       "51287  2018-02-28  10:25:07    6.0        63313    Male         Web   \n",
       "51288  2018-02-28  10:50:08    7.0        86485    Male         Web   \n",
       "51289  2018-02-28  11:09:40    5.0        81129    Male         Web   \n",
       "\n",
       "      Customer_Login_type    Product_Category            Product  Sales  \\\n",
       "0                  Member  Auto & Accessories  Car Media Players  140.0   \n",
       "1                  Member  Auto & Accessories       Car Speakers  211.0   \n",
       "2                  Member  Auto & Accessories    Car Body Covers  117.0   \n",
       "3                  Member  Auto & Accessories    Car & Bike Care  118.0   \n",
       "4                  Member  Auto & Accessories               Tyre  250.0   \n",
       "...                   ...                 ...                ...    ...   \n",
       "51285              Member    Home & Furniture          Shoe Rack  124.0   \n",
       "51286              Member    Home & Furniture          Umbrellas   70.0   \n",
       "51287              Member    Home & Furniture    Dinner Crockery  133.0   \n",
       "51288              Member    Home & Furniture        Sofa Covers  216.0   \n",
       "51289              Member    Home & Furniture         Bed Sheets  211.0   \n",
       "\n",
       "       Quantity  Discount  Profit  Shipping_Cost Order_Priority Payment_method  \n",
       "0           1.0       0.3    46.0            4.6         Medium    credit_card  \n",
       "1           1.0       0.3   112.0           11.2         Medium    credit_card  \n",
       "2           5.0       0.1    31.2            3.1       Critical    credit_card  \n",
       "3           1.0       0.3    26.2            2.6           High    credit_card  \n",
       "4           1.0       0.3   160.0           16.0       Critical    credit_card  \n",
       "...         ...       ...     ...            ...            ...            ...  \n",
       "51285       4.0       0.3    19.2            1.9         Medium    money_order  \n",
       "51286       5.0       0.2    14.0            1.4         Medium    credit_card  \n",
       "51287       1.0       0.3    39.7            4.0         Medium    credit_card  \n",
       "51288       1.0       0.2   131.7           13.2         Medium    credit_card  \n",
       "51289       5.0       0.3    99.4            9.9         Medium    credit_card  \n",
       "\n",
       "[51290 rows x 16 columns]"
      ]
     },
     "execution_count": 3,
     "metadata": {},
     "output_type": "execute_result"
    }
   ],
   "source": [
    "ecommerce_sales = pd.read_csv(r'C:\\Users\\wanji\\OneDrive\\Desktop\\Ecommerce sales\\archive (5)\\E-commerce Dataset.csv')\n",
    "ecommerce_sales"
   ]
  },
  {
   "cell_type": "code",
   "execution_count": 4,
   "metadata": {},
   "outputs": [
    {
     "name": "stdout",
     "output_type": "stream",
     "text": [
      "Dataset shape: (51290, 16)\n"
     ]
    }
   ],
   "source": [
    "def check_dataset_shape(dataset):\n",
    "    if isinstance(dataset, np.ndarray):\n",
    "        print(\"Dataset shape:\", dataset.shape)\n",
    "    elif isinstance(dataset, pd.DataFrame):\n",
    "        print(\"Dataset shape:\", dataset.shape)\n",
    "    else:\n",
    "        print(\"Invalid dataset type. Please provide a NumPy array or a Pandas DataFrame.\")\n",
    "        \n",
    "# Assuming you have a dataset named 'sales_data'\n",
    "check_dataset_shape(ecommerce_sales)"
   ]
  },
  {
   "cell_type": "code",
   "execution_count": 5,
   "metadata": {},
   "outputs": [
    {
     "data": {
      "text/plain": [
       "(51290, 16)"
      ]
     },
     "execution_count": 5,
     "metadata": {},
     "output_type": "execute_result"
    }
   ],
   "source": [
    "# Know the shape of the dataset\n",
    "def get_dataset_shape(dataset):\n",
    "    \"\"\"\n",
    "    Function to determine the shape of the dataset\n",
    "    Should return a tuple containing the rows and columns of the dataset\n",
    "    \"\"\"\n",
    "\n",
    "    return dataset.shape\n",
    "\n",
    "ecommerce_sales = get_dataset_shape(ecommerce_sales)\n",
    "ecommerce_sales\n"
   ]
  },
  {
   "cell_type": "code",
   "execution_count": 6,
   "metadata": {},
   "outputs": [
    {
     "data": {
      "text/plain": [
       "'Invalid dataset type. Please provide a Pandas DataFrame.'"
      ]
     },
     "execution_count": 6,
     "metadata": {},
     "output_type": "execute_result"
    }
   ],
   "source": [
    "\n",
    "\n",
    "def create_dataset_info(dataset):\n",
    "    if isinstance(dataset, pd.DataFrame):\n",
    "        info = dataset.info()\n",
    "        return info\n",
    "    else:\n",
    "        return \"Invalid dataset type. Please provide a Pandas DataFrame.\"\n",
    "# Assuming you have a dataset named 'sales_data'\n",
    "dataset_info = create_dataset_info(ecommerce_sales)\n",
    "dataset_info\n"
   ]
  },
  {
   "cell_type": "code",
   "execution_count": 11,
   "metadata": {},
   "outputs": [
    {
     "name": "stdout",
     "output_type": "stream",
     "text": [
      "<class 'pandas.core.frame.DataFrame'>\n",
      "RangeIndex: 51290 entries, 0 to 51289\n",
      "Data columns (total 16 columns):\n",
      " #   Column               Non-Null Count  Dtype  \n",
      "---  ------               --------------  -----  \n",
      " 0   Order_Date           51290 non-null  object \n",
      " 1   Time                 51290 non-null  object \n",
      " 2   Aging                51289 non-null  float64\n",
      " 3   Customer_Id          51290 non-null  int64  \n",
      " 4   Gender               51290 non-null  object \n",
      " 5   Device_Type          51290 non-null  object \n",
      " 6   Customer_Login_type  51290 non-null  object \n",
      " 7   Product_Category     51290 non-null  object \n",
      " 8   Product              51290 non-null  object \n",
      " 9   Sales                51289 non-null  float64\n",
      " 10  Quantity             51288 non-null  float64\n",
      " 11  Discount             51289 non-null  float64\n",
      " 12  Profit               51290 non-null  float64\n",
      " 13  Shipping_Cost        51289 non-null  float64\n",
      " 14  Order_Priority       51288 non-null  object \n",
      " 15  Payment_method       51290 non-null  object \n",
      "dtypes: float64(6), int64(1), object(9)\n",
      "memory usage: 6.3+ MB\n",
      "None\n"
     ]
    }
   ],
   "source": [
    "# Display/show the dataset info : columns, column name and the dtype\n",
    "\n",
    "def get_dataset_info(dataset):\n",
    "    \"\"\"\n",
    "    Function to obtain information about a given dataset.\n",
    "    \n",
    "    Args:\n",
    "    - dataset (pandas.DataFrame): The dataset to get information about.\n",
    "    \n",
    "    Returns:\n",
    "    - None: Prints the information about the dataset.\n",
    "    \"\"\"\n",
    "    dataset_info = dataset.info()\n",
    "    print(dataset_info)\n",
    "\n",
    "# Load the dataset\n",
    "ecommerce_sales = pd.read_csv(r'C:\\Users\\wanji\\OneDrive\\Desktop\\Ecommerce sales\\archive (5)\\E-commerce Dataset.csv')\n",
    "\n",
    "# Call the function to get information about the dataset\n",
    "get_dataset_info(ecommerce_sales)\n",
    "\n"
   ]
  },
  {
   "cell_type": "code",
   "execution_count": 12,
   "metadata": {},
   "outputs": [
    {
     "name": "stdout",
     "output_type": "stream",
     "text": [
      "              Aging   Customer_Id         Sales      Quantity      Discount  \\\n",
      "count  51289.000000  51290.000000  51289.000000  51288.000000  51289.000000   \n",
      "mean       5.255035  58155.758764    152.340872      2.502983      0.303821   \n",
      "std        2.959948  26032.215826     66.495419      1.511859      0.131027   \n",
      "min        1.000000  10000.000000     33.000000      1.000000      0.100000   \n",
      "25%        3.000000  35831.250000     85.000000      1.000000      0.200000   \n",
      "50%        5.000000  61018.000000    133.000000      2.000000      0.300000   \n",
      "75%        8.000000  80736.250000    218.000000      4.000000      0.400000   \n",
      "max       10.500000  99999.000000    250.000000      5.000000      0.500000   \n",
      "\n",
      "             Profit  Shipping_Cost  \n",
      "count  51290.000000   51289.000000  \n",
      "mean      70.407226       7.041557  \n",
      "std       48.729488       4.871745  \n",
      "min        0.500000       0.100000  \n",
      "25%       24.900000       2.500000  \n",
      "50%       59.900000       6.000000  \n",
      "75%      118.400000      11.800000  \n",
      "max      167.500000      16.800000  \n"
     ]
    }
   ],
   "source": [
    "# We get to know the stanadard deviation mean which will help us in data cleaning: missing values \n",
    "def get_dataset_statistics_describe(dataset):\n",
    "    \"\"\"\n",
    "    Function to obtain information about a given dataset.\n",
    "    \n",
    "    Args:\n",
    "    - dataset (pandas.DataFrame): The dataset to get information about.\n",
    "    \n",
    "    Returns:\n",
    "    - None: Prints the information about the dataset.\n",
    "    \"\"\"\n",
    "    dataset_describe = dataset.describe()\n",
    "    print(dataset_describe)\n",
    "\n",
    " # Load the dataset\n",
    "ecommerce_sales = pd.read_csv(r'C:\\Users\\wanji\\OneDrive\\Desktop\\Ecommerce sales\\archive (5)\\E-commerce Dataset.csv')\n",
    "   \n",
    "# Call the function to get information about the dataset\n",
    "get_dataset_statistics_describe(ecommerce_sales)\n"
   ]
  },
  {
   "attachments": {},
   "cell_type": "markdown",
   "metadata": {},
   "source": [
    "### Data Cleaning "
   ]
  },
  {
   "cell_type": "code",
   "execution_count": 14,
   "metadata": {},
   "outputs": [
    {
     "ename": "AttributeError",
     "evalue": "'DataFrame' object has no attribute 'duplicates'",
     "output_type": "error",
     "traceback": [
      "\u001b[1;31m---------------------------------------------------------------------------\u001b[0m",
      "\u001b[1;31mAttributeError\u001b[0m                            Traceback (most recent call last)",
      "\u001b[1;32m<ipython-input-14-ca78232890e8>\u001b[0m in \u001b[0;36m<module>\u001b[1;34m\u001b[0m\n\u001b[0;32m     13\u001b[0m \u001b[1;33m\u001b[0m\u001b[0m\n\u001b[0;32m     14\u001b[0m \u001b[1;31m# Call the function to identify duplicate values\u001b[0m\u001b[1;33m\u001b[0m\u001b[1;33m\u001b[0m\u001b[1;33m\u001b[0m\u001b[0m\n\u001b[1;32m---> 15\u001b[1;33m \u001b[0mduplicate_rows\u001b[0m \u001b[1;33m=\u001b[0m \u001b[0midentify_duplicates\u001b[0m\u001b[1;33m(\u001b[0m\u001b[0mecommerce_sales\u001b[0m\u001b[1;33m)\u001b[0m\u001b[1;33m\u001b[0m\u001b[1;33m\u001b[0m\u001b[0m\n\u001b[0m\u001b[0;32m     16\u001b[0m \u001b[1;33m\u001b[0m\u001b[0m\n\u001b[0;32m     17\u001b[0m \u001b[1;31m# Load the dataset\u001b[0m\u001b[1;33m\u001b[0m\u001b[1;33m\u001b[0m\u001b[1;33m\u001b[0m\u001b[0m\n",
      "\u001b[1;32m<ipython-input-14-ca78232890e8>\u001b[0m in \u001b[0;36midentify_duplicates\u001b[1;34m(dataset)\u001b[0m\n\u001b[0;32m      9\u001b[0m     \u001b[1;33m-\u001b[0m \u001b[0mpandas\u001b[0m\u001b[1;33m.\u001b[0m\u001b[0mDataFrame\u001b[0m\u001b[1;33m:\u001b[0m \u001b[0mA\u001b[0m \u001b[0mDataFrame\u001b[0m \u001b[0mcontaining\u001b[0m \u001b[0mthe\u001b[0m \u001b[0mduplicate\u001b[0m \u001b[0mrows\u001b[0m \u001b[1;32mfrom\u001b[0m \u001b[0mthe\u001b[0m \u001b[0mdataset\u001b[0m\u001b[1;33m.\u001b[0m\u001b[1;33m\u001b[0m\u001b[1;33m\u001b[0m\u001b[0m\n\u001b[0;32m     10\u001b[0m     \"\"\"\n\u001b[1;32m---> 11\u001b[1;33m     \u001b[0mduplicates\u001b[0m \u001b[1;33m=\u001b[0m \u001b[0mdataset\u001b[0m\u001b[1;33m[\u001b[0m\u001b[0mdataset\u001b[0m\u001b[1;33m.\u001b[0m\u001b[0mduplicates\u001b[0m\u001b[1;33m(\u001b[0m\u001b[0mkeep\u001b[0m\u001b[1;33m=\u001b[0m\u001b[1;32mFalse\u001b[0m\u001b[1;33m)\u001b[0m\u001b[1;33m]\u001b[0m\u001b[1;33m\u001b[0m\u001b[1;33m\u001b[0m\u001b[0m\n\u001b[0m\u001b[0;32m     12\u001b[0m     \u001b[1;32mreturn\u001b[0m \u001b[0mduplicates\u001b[0m\u001b[1;33m\u001b[0m\u001b[1;33m\u001b[0m\u001b[0m\n\u001b[0;32m     13\u001b[0m \u001b[1;33m\u001b[0m\u001b[0m\n",
      "\u001b[1;32mc:\\Users\\wanji\\anaconda3\\envs\\learn-env\\lib\\site-packages\\pandas\\core\\generic.py\u001b[0m in \u001b[0;36m__getattr__\u001b[1;34m(self, name)\u001b[0m\n\u001b[0;32m   5137\u001b[0m             \u001b[1;32mif\u001b[0m \u001b[0mself\u001b[0m\u001b[1;33m.\u001b[0m\u001b[0m_info_axis\u001b[0m\u001b[1;33m.\u001b[0m\u001b[0m_can_hold_identifiers_and_holds_name\u001b[0m\u001b[1;33m(\u001b[0m\u001b[0mname\u001b[0m\u001b[1;33m)\u001b[0m\u001b[1;33m:\u001b[0m\u001b[1;33m\u001b[0m\u001b[1;33m\u001b[0m\u001b[0m\n\u001b[0;32m   5138\u001b[0m                 \u001b[1;32mreturn\u001b[0m \u001b[0mself\u001b[0m\u001b[1;33m[\u001b[0m\u001b[0mname\u001b[0m\u001b[1;33m]\u001b[0m\u001b[1;33m\u001b[0m\u001b[1;33m\u001b[0m\u001b[0m\n\u001b[1;32m-> 5139\u001b[1;33m             \u001b[1;32mreturn\u001b[0m \u001b[0mobject\u001b[0m\u001b[1;33m.\u001b[0m\u001b[0m__getattribute__\u001b[0m\u001b[1;33m(\u001b[0m\u001b[0mself\u001b[0m\u001b[1;33m,\u001b[0m \u001b[0mname\u001b[0m\u001b[1;33m)\u001b[0m\u001b[1;33m\u001b[0m\u001b[1;33m\u001b[0m\u001b[0m\n\u001b[0m\u001b[0;32m   5140\u001b[0m \u001b[1;33m\u001b[0m\u001b[0m\n\u001b[0;32m   5141\u001b[0m     \u001b[1;32mdef\u001b[0m \u001b[0m__setattr__\u001b[0m\u001b[1;33m(\u001b[0m\u001b[0mself\u001b[0m\u001b[1;33m,\u001b[0m \u001b[0mname\u001b[0m\u001b[1;33m:\u001b[0m \u001b[0mstr\u001b[0m\u001b[1;33m,\u001b[0m \u001b[0mvalue\u001b[0m\u001b[1;33m)\u001b[0m \u001b[1;33m->\u001b[0m \u001b[1;32mNone\u001b[0m\u001b[1;33m:\u001b[0m\u001b[1;33m\u001b[0m\u001b[1;33m\u001b[0m\u001b[0m\n",
      "\u001b[1;31mAttributeError\u001b[0m: 'DataFrame' object has no attribute 'duplicates'"
     ]
    }
   ],
   "source": [
    "def identify_duplicates(dataset):\n",
    "    \"\"\"\n",
    "    Function to identify duplicate values in a given dataset.\n",
    "    \n",
    "    Args:\n",
    "    - dataset (pandas.DataFrame): The dataset to check for duplicates.\n",
    "    \n",
    "    Returns:\n",
    "    - pandas.DataFrame: A DataFrame containing the duplicate rows from the dataset.\n",
    "    \"\"\"\n",
    "    duplicates = dataset[dataset.duplicates(keep=False)]\n",
    "    return duplicates\n",
    "\n",
    "# Call the function to identify duplicate values\n",
    "duplicate_rows = identify_duplicates(ecommerce_sales)\n",
    "\n",
    "# Load the dataset\n",
    "ecommerce_sales = pd.read_csv(r'C:\\Users\\wanji\\OneDrive\\Desktop\\Ecommerce sales\\archive (5)\\E-commerce Dataset.csv')\n",
    "\n",
    "\n",
    "# Print the duplicate rows\n",
    "# duplicate_rows\n"
   ]
  },
  {
   "cell_type": "code",
   "execution_count": 15,
   "metadata": {},
   "outputs": [
    {
     "name": "stdout",
     "output_type": "stream",
     "text": [
      "Order_Priority    2\n",
      "Quantity          2\n",
      "Shipping_Cost     1\n",
      "Discount          1\n",
      "Sales             1\n",
      "Aging             1\n",
      "dtype: int64\n"
     ]
    }
   ],
   "source": [
    "#Identifying missing values \n",
    "def identify_missing_values(dataset):\n",
    "    \"\"\"\n",
    "    Function to identify missing values in a given dataset.\n",
    "    \n",
    "    Args:\n",
    "    - dataset (pandas.DataFrame): The dataset to check for missing values.\n",
    "    \n",
    "    Returns:\n",
    "    - pandas.DataFrame: A DataFrame containing the columns with missing values and their corresponding count.\n",
    "    \"\"\"\n",
    "    missing_values = dataset.isnull().sum()\n",
    "    missing_values = missing_values[missing_values > 0]\n",
    "    missing_values = missing_values.sort_values(ascending=False)\n",
    "    return missing_values\n",
    "\n",
    "# Call the function to identify missing values\n",
    "missing_values = identify_missing_values(ecommerce_sales)\n",
    "\n",
    "# Load the dataset\n",
    "ecommerce_sales = pd.read_csv(r'C:\\Users\\wanji\\OneDrive\\Desktop\\Ecommerce sales\\archive (5)\\E-commerce Dataset.csv')\n",
    "\n",
    "\n",
    "# Print the columns with missing values and their count\n",
    "print(missing_values)\n"
   ]
  },
  {
   "cell_type": "code",
   "execution_count": 16,
   "metadata": {},
   "outputs": [],
   "source": [
    "# Fill the missing values with mean\n",
    "\n",
    "def fill_missing_with_mean(dataset):\n",
    "    \"\"\"\n",
    "    Function to fill missing values in a given dataset with the mean of respective columns.\n",
    "    \n",
    "    Args:\n",
    "    - dataset (pandas.DataFrame): The dataset to fill missing values.\n",
    "    \n",
    "    Returns:\n",
    "    - pandas.DataFrame: A new DataFrame with missing values filled with the mean of respective columns.\n",
    "    \"\"\"\n",
    "    dataset.fillna(dataset.mean(), inplace = True )\n",
    "\n",
    "\n",
    "# Load the dataset\n",
    "ecommerce_sales = pd.read_csv(r'C:\\Users\\wanji\\OneDrive\\Desktop\\Ecommerce sales\\archive (5)\\E-commerce Dataset.csv')\n",
    "\n",
    "\n",
    "# Call the function to fill missing values with the mean\n",
    "fill_missing_with_mean(ecommerce_sales)\n",
    "\n",
    "# Print the filled dataset\n",
    "#print(ecommerce_sales)\n"
   ]
  },
  {
   "cell_type": "code",
   "execution_count": 17,
   "metadata": {},
   "outputs": [
    {
     "name": "stdout",
     "output_type": "stream",
     "text": [
      "Order_Date             0\n",
      "Time                   0\n",
      "Aging                  0\n",
      "Customer_Id            0\n",
      "Gender                 0\n",
      "Device_Type            0\n",
      "Customer_Login_type    0\n",
      "Product_Category       0\n",
      "Product                0\n",
      "Sales                  0\n",
      "Quantity               0\n",
      "Discount               0\n",
      "Profit                 0\n",
      "Shipping_Cost          0\n",
      "Order_Priority         2\n",
      "Payment_method         0\n",
      "dtype: int64\n"
     ]
    }
   ],
   "source": [
    "missing_values = ecommerce_sales.isnull().sum()\n",
    "\n",
    "# Print the count of missing values\n",
    "print(missing_values)"
   ]
  },
  {
   "attachments": {},
   "cell_type": "markdown",
   "metadata": {},
   "source": [
    "## Co-relation Matrix"
   ]
  },
  {
   "cell_type": "code",
   "execution_count": 18,
   "metadata": {},
   "outputs": [
    {
     "data": {
      "image/png": "[encoded data removed]",
      "text/plain": [
       "<Figure size 720x576 with 2 Axes>"
      ]
     },
     "metadata": {
      "needs_background": "light"
     },
     "output_type": "display_data"
    }
   ],
   "source": [
    "# Compute the correlation matrix\n",
    "correlation_matrix = ecommerce_sales.corr()\n",
    "\n",
    "# Set up the figure and axes\n",
    "fig, ax = plt.subplots(figsize=(10, 8))\n",
    "\n",
    "# Create the heatmap\n",
    "sns.heatmap(correlation_matrix, annot=True, cmap='coolwarm', square=True, ax=ax)\n",
    "\n",
    "# Set the title\n",
    "ax.set_title('Correlation Matrix Heatmap')\n",
    "\n",
    "plt.show()"
   ]
  },
  {
   "attachments": {},
   "cell_type": "markdown",
   "metadata": {},
   "source": [
    "### Transform the data "
   ]
  },
  {
   "cell_type": "code",
   "execution_count": 19,
   "metadata": {},
   "outputs": [],
   "source": [
    "# Transform the data \n",
    "# Date type conversions\n",
    "ecommerce_sales['Sales'] = ecommerce_sales['Sales'].astype(float)\n",
    "# Aggregate : Group by the column and calculate the sum\n",
    "sales_by_category = ecommerce_sales.groupby('Product_Category')['Sales'].sum()\n",
    "# Get the mean of the sales\n",
    "average_sales = ecommerce_sales['Sales'].mean()\n",
    "# Create a new Column based on the column available\n",
    "ecommerce_sales['Revenue'] = ecommerce_sales['Sales'] * ecommerce_sales['Quantity']\n",
    "# Normalize by the min-max scaling\n",
    "ecommerce_sales['Normalized_Sales'] = (ecommerce_sales['Sales'] - ecommerce_sales['Sales'].min()) / (ecommerce_sales['Sales'].max() - ecommerce_sales['Sales'].min())\n",
    "# Standardize using the z-score normalization\n",
    "ecommerce_sales['Standardized_Sales'] = (ecommerce_sales['Sales'] - ecommerce_sales['Sales'].mean()) / ecommerce_sales['Sales'].std()\n"
   ]
  },
  {
   "attachments": {},
   "cell_type": "markdown",
   "metadata": {},
   "source": [
    "### Time Series"
   ]
  },
  {
   "cell_type": "code",
   "execution_count": 20,
   "metadata": {},
   "outputs": [],
   "source": [
    "# Convert 'Order_Date' column to datetime type\n",
    "ecommerce_sales['Order_Date'] = pd.to_datetime(ecommerce_sales['Order_Date'])\n",
    "\n",
    "# Set 'Order_Date' as the index\n",
    "ecommerce_sales.set_index('Order_Date', inplace=True)\n",
    "\n",
    "# Extract the 'Sales' column for analysis\n",
    "sales_data = ecommerce_sales['Sales']\n"
   ]
  },
  {
   "cell_type": "code",
   "execution_count": 21,
   "metadata": {},
   "outputs": [
    {
     "data": {
      "text/plain": [
       "<AxesSubplot:title={'center':'Sales Trends over Time'}, xlabel='Order Date', ylabel='Sales'>"
      ]
     },
     "execution_count": 21,
     "metadata": {},
     "output_type": "execute_result"
    },
    {
     "data": {
      "image/png": "[encoded data removed]",
      "text/plain": [
       "<Figure size 864x432 with 1 Axes>"
      ]
     },
     "metadata": {
      "needs_background": "light"
     },
     "output_type": "display_data"
    }
   ],
   "source": [
    "# Visualize the sales trends over time using a line chart\n",
    "plt.figure(figsize=(12, 6))\n",
    "sales_data.plot(xlabel='Order Date', ylabel='Sales', title='Sales Trends over Time')"
   ]
  },
  {
   "cell_type": "code",
   "execution_count": 22,
   "metadata": {},
   "outputs": [],
   "source": [
    "# Seasonal Analysis\n",
    "# Calculate monthly sales totals\n",
    "monthly_sales = sales_data.resample('M').sum()"
   ]
  },
  {
   "cell_type": "code",
   "execution_count": 23,
   "metadata": {},
   "outputs": [
    {
     "data": {
      "text/plain": [
       "<AxesSubplot:title={'center':'Monthly Sales Totals'}, xlabel='Month', ylabel='Sales'>"
      ]
     },
     "execution_count": 23,
     "metadata": {},
     "output_type": "execute_result"
    },
    {
     "data": {
      "image/png": "[encoded data removed]",
      "text/plain": [
       "<Figure size 864x432 with 1 Axes>"
      ]
     },
     "metadata": {
      "needs_background": "light"
     },
     "output_type": "display_data"
    }
   ],
   "source": [
    "# Visualize monthly sales totals using a bar chart\n",
    "plt.figure(figsize=(12, 6))\n",
    "monthly_sales.plot(kind='bar', xlabel='Month', ylabel='Sales', title='Monthly Sales Totals')\n"
   ]
  },
  {
   "cell_type": "code",
   "execution_count": 24,
   "metadata": {},
   "outputs": [],
   "source": [
    "# Forecasting\n",
    "from statsmodels.tsa.arima.model import ARIMA"
   ]
  },
  {
   "cell_type": "code",
   "execution_count": 25,
   "metadata": {},
   "outputs": [
    {
     "name": "stderr",
     "output_type": "stream",
     "text": [
      "c:\\Users\\wanji\\anaconda3\\envs\\learn-env\\lib\\site-packages\\statsmodels\\tsa\\base\\tsa_model.py:581: ValueWarning: A date index has been provided, but it has no associated frequency information and so will be ignored when e.g. forecasting.\n",
      "  warnings.warn('A date index has been provided, but it has no'\n",
      "c:\\Users\\wanji\\anaconda3\\envs\\learn-env\\lib\\site-packages\\statsmodels\\tsa\\base\\tsa_model.py:585: ValueWarning: A date index has been provided, but it is not monotonic and so will be ignored when e.g. forecasting.\n",
      "  warnings.warn('A date index has been provided, but it is not'\n",
      "c:\\Users\\wanji\\anaconda3\\envs\\learn-env\\lib\\site-packages\\statsmodels\\tsa\\base\\tsa_model.py:581: ValueWarning: A date index has been provided, but it has no associated frequency information and so will be ignored when e.g. forecasting.\n",
      "  warnings.warn('A date index has been provided, but it has no'\n",
      "c:\\Users\\wanji\\anaconda3\\envs\\learn-env\\lib\\site-packages\\statsmodels\\tsa\\base\\tsa_model.py:585: ValueWarning: A date index has been provided, but it is not monotonic and so will be ignored when e.g. forecasting.\n",
      "  warnings.warn('A date index has been provided, but it is not'\n",
      "c:\\Users\\wanji\\anaconda3\\envs\\learn-env\\lib\\site-packages\\statsmodels\\tsa\\base\\tsa_model.py:581: ValueWarning: A date index has been provided, but it has no associated frequency information and so will be ignored when e.g. forecasting.\n",
      "  warnings.warn('A date index has been provided, but it has no'\n",
      "c:\\Users\\wanji\\anaconda3\\envs\\learn-env\\lib\\site-packages\\statsmodels\\tsa\\base\\tsa_model.py:585: ValueWarning: A date index has been provided, but it is not monotonic and so will be ignored when e.g. forecasting.\n",
      "  warnings.warn('A date index has been provided, but it is not'\n"
     ]
    }
   ],
   "source": [
    "# Fit an ARIMA model\n",
    "model = ARIMA(sales_data, order=(1, 1, 1))\n",
    "model_fit = model.fit()"
   ]
  },
  {
   "cell_type": "code",
   "execution_count": 26,
   "metadata": {},
   "outputs": [
    {
     "name": "stderr",
     "output_type": "stream",
     "text": [
      "c:\\Users\\wanji\\anaconda3\\envs\\learn-env\\lib\\site-packages\\statsmodels\\tsa\\base\\tsa_model.py:376: ValueWarning: No supported index is available. Prediction results will be given with an integer index beginning at `start`.\n",
      "  warnings.warn('No supported index is available.'\n"
     ]
    }
   ],
   "source": [
    "# Forecast future sales\n",
    "forecast = model_fit.predict(start=len(sales_data), end=len(sales_data) + 12)"
   ]
  },
  {
   "cell_type": "code",
   "execution_count": 27,
   "metadata": {},
   "outputs": [],
   "source": [
    "# Discount vs. sales\n",
    "discount_sales = ecommerce_sales.groupby('Discount')['Sales'].sum()"
   ]
  },
  {
   "cell_type": "code",
   "execution_count": 28,
   "metadata": {},
   "outputs": [
    {
     "data": {
      "image/png": "[encoded data removed]",
      "text/plain": [
       "<Figure size 864x432 with 1 Axes>"
      ]
     },
     "metadata": {
      "needs_background": "light"
     },
     "output_type": "display_data"
    }
   ],
   "source": [
    "# Visualize sales by discount using a bar chart\n",
    "plt.figure(figsize=(12, 6))\n",
    "discount_sales.plot(kind='bar', xlabel='Discount', ylabel='Sales', title='Sales by Discount')\n",
    "\n",
    "# Shipping cost vs. sales\n",
    "shipping_sales = ecommerce_sales.groupby('Shipping_Cost')['Sales'].sum()\n"
   ]
  },
  {
   "cell_type": "code",
   "execution_count": 29,
   "metadata": {},
   "outputs": [
    {
     "data": {
      "text/plain": [
       "<AxesSubplot:title={'center':'Sales by Shipping Cost'}, xlabel='Shipping Cost', ylabel='Sales'>"
      ]
     },
     "execution_count": 29,
     "metadata": {},
     "output_type": "execute_result"
    },
    {
     "data": {
      "image/png": "[encoded data removed]",
      "text/plain": [
       "<Figure size 720x432 with 1 Axes>"
      ]
     },
     "metadata": {
      "needs_background": "light"
     },
     "output_type": "display_data"
    }
   ],
   "source": [
    "# Visualize sales by shipping cost using a bar chart\n",
    "plt.figure(figsize=(10, 6))\n",
    "shipping_sales.plot(kind='bar', xlabel='Shipping Cost', ylabel='Sales', title='Sales by Shipping Cost')"
   ]
  },
  {
   "cell_type": "code",
   "execution_count": 30,
   "metadata": {},
   "outputs": [
    {
     "name": "stdout",
     "output_type": "stream",
     "text": [
      "Recommendations:\n",
      "1. Plan marketing campaigns or promotions during peak sales months (November).\n",
      "2. Focus on promoting or expanding the Fashion category.\n",
      "3. Evaluate the effectiveness of discounts and consider adjusting the discount strategies.\n",
      "4. Find an optimal balance in shipping cost to encourage sales without sacrificing profitability. Consider setting the shipping cost around 7.041556669071341.\n"
     ]
    }
   ],
   "source": [
    "# Analyze the performance of different product categories\n",
    "category_sales = ecommerce_sales.groupby('Product_Category')['Sales'].sum()\n",
    "\n",
    "# Define the recommendation system function\n",
    "def generate_recommendations(ecommerce_sales, category_sales):\n",
    "    recommendations = []\n",
    "\n",
    "    # Based on the seasonality analysis, identify peak sales months and plan marketing campaigns or promotions\n",
    "    monthly_sales = ecommerce_sales['Sales'].resample('M').sum()\n",
    "    peak_sales_months = monthly_sales.idxmax().strftime('%B')\n",
    "    recommendations.append(f\"Plan marketing campaigns or promotions during peak sales months ({peak_sales_months}).\")\n",
    "\n",
    "    # Analyze the performance of different product categories and focus on promoting or expanding the ones with higher sales\n",
    "    top_product_category = category_sales.idxmax()\n",
    "    recommendations.append(f\"Focus on promoting or expanding the {top_product_category} category.\")\n",
    "\n",
    "    # Assess the impact of discounts on sales and optimize discount strategies to maximize revenue\n",
    "    average_sales_with_discount = ecommerce_sales[ecommerce_sales['Discount'] > 0]['Sales'].mean()\n",
    "    average_sales_without_discount = ecommerce_sales[ecommerce_sales['Discount'] == 0]['Sales'].mean()\n",
    "    if average_sales_with_discount > average_sales_without_discount:\n",
    "        recommendations.append(\"Continue offering discounts to maximize revenue.\")\n",
    "    else:\n",
    "        recommendations.append(\"Evaluate the effectiveness of discounts and consider adjusting the discount strategies.\")\n",
    "\n",
    "    # Evaluate the relationship between shipping cost and sales to find an optimal balance\n",
    "    average_sales_by_shipping_cost = ecommerce_sales.groupby('Shipping_Cost')['Sales'].mean()\n",
    "    optimal_shipping_cost = average_sales_by_shipping_cost.idxmax()\n",
    "    recommendations.append(f\"Find an optimal balance in shipping cost to encourage sales without sacrificing profitability. Consider setting the shipping cost around {optimal_shipping_cost}.\")\n",
    "\n",
    "    return recommendations\n",
    "\n",
    "# Generate recommendations using the recommendation system\n",
    "recommendations = generate_recommendations(ecommerce_sales, category_sales)\n",
    "\n",
    "# Print the recommendations\n",
    "print(\"Recommendations:\")\n",
    "for i, recommendation in enumerate(recommendations, start=1):\n",
    "    print(f\"{i}. {recommendation}\")"
   ]
  },
  {
   "cell_type": "code",
   "execution_count": 1,
   "metadata": {},
   "outputs": [
    {
     "name": "stdout",
     "output_type": "stream",
     "text": [
      " * Serving Flask app '__main__'\n",
      " * Debug mode: off\n"
     ]
    },
    {
     "name": "stderr",
     "output_type": "stream",
     "text": [
      "WARNING: This is a development server. Do not use it in a production deployment. Use a production WSGI server instead.\n",
      " * Running on http://127.0.0.1:5000\n",
      "Press CTRL+C to quit\n",
      "[2023-06-13 17:05:14,024] ERROR in app: Exception on / [GET]\n",
      "Traceback (most recent call last):\n",
      "  File \"c:\\Users\\wanji\\anaconda3\\envs\\learn-env\\lib\\site-packages\\flask\\app.py\", line 2190, in wsgi_app\n",
      "    response = self.full_dispatch_request()\n",
      "  File \"c:\\Users\\wanji\\anaconda3\\envs\\learn-env\\lib\\site-packages\\flask\\app.py\", line 1486, in full_dispatch_request\n",
      "    rv = self.handle_user_exception(e)\n",
      "  File \"c:\\Users\\wanji\\anaconda3\\envs\\learn-env\\lib\\site-packages\\flask\\app.py\", line 1484, in full_dispatch_request\n",
      "    rv = self.dispatch_request()\n",
      "  File \"c:\\Users\\wanji\\anaconda3\\envs\\learn-env\\lib\\site-packages\\flask\\app.py\", line 1469, in dispatch_request\n",
      "    return self.ensure_sync(self.view_functions[rule.endpoint])(**view_args)\n",
      "  File \"<ipython-input-1-f65330f23e25>\", line 7, in index\n",
      "    return render_template('index.html', recommendations=recommendations)\n",
      "NameError: name 'recommendations' is not defined\n",
      "127.0.0.1 - - [13/Jun/2023 17:05:14] \"GET / HTTP/1.1\" 500 -\n"
     ]
    }
   ],
   "source": [
    "from flask import Flask,request,jsonify,render_template\n",
    "import numpy as np\n",
    "app = Flask(__name__)\n",
    "@app.route('/')\n",
    "def index():\n",
    "  \n",
    "   return render_template('index.html', recommendations=recommendations)\n",
    "if __name__ == '__main__':\n",
    "    app.run()"
   ]
  },
  {
   "cell_type": "code",
   "execution_count": null,
   "metadata": {},
   "outputs": [],
   "source": []
  }
 ],
 "metadata": {
  "kernelspec": {
   "display_name": "learn-env",
   "language": "python",
   "name": "python3"
  },
  "language_info": {
   "codemirror_mode": {
    "name": "ipython",
    "version": 3
   },
   "file_extension": ".py",
   "mimetype": "text/x-python",
   "name": "python",
   "nbconvert_exporter": "python",
   "pygments_lexer": "ipython3",
   "version": "3.8.5"
  },
  "orig_nbformat": 4
 },
 "nbformat": 4,
 "nbformat_minor": 2
}
